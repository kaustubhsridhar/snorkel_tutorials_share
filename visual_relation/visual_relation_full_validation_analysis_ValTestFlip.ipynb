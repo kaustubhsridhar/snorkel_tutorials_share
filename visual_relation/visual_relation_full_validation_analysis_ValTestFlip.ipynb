{
 "cells": [
  {
   "cell_type": "markdown",
   "metadata": {},
   "source": [
    "# Visual Relationship Detection\n",
    "\n",
    "In this tutorial, we focus on the task of classifying visual relationships between objects in an image. For any given image, there might be many such relationships, defined formally as a `subject <predictate> object` (e.g. `person <riding> bike`). As an example, in the relationship `man riding bicycle`), \"man\" and \"bicycle\" are the subject and object, respectively, and \"riding\" is the relationship predicate.\n",
    "\n",
    "![Visual Relationships](https://cs.stanford.edu/people/ranjaykrishna/vrd/dataset.png)\n",
    "\n",
    "In the examples of the relationships shown above, the red box represents the _subject_ while the green box represents the _object_. The _predicate_ (e.g. kick) denotes what relationship connects the subject and the object.\n",
    "\n",
    "For the purpose of this tutorial, we operate over the [Visual Relationship Detection (VRD) dataset](https://cs.stanford.edu/people/ranjaykrishna/vrd/) and focus on action relationships. We define our classification task as **identifying which of three relationships holds between the objects represented by a pair of bounding boxes.**"
   ]
  },
  {
   "cell_type": "code",
   "execution_count": null,
   "metadata": {
    "tags": [
     "md-exclude"
    ]
   },
   "outputs": [],
   "source": [
    "import os\n",
    "import pandas as pd\n",
    "\n",
    "if os.path.basename(os.getcwd()) == \"snorkel-tutorials\":\n",
    "    os.chdir(\"visual_relation\")"
   ]
  },
  {
   "cell_type": "markdown",
   "metadata": {},
   "source": [
    "### 1. Load Dataset\n",
    "We load the VRD dataset and filter images with at least one action predicate in it, since these are more difficult to classify than geometric relationships like `above` or `next to`. We load the train, valid, and test sets as Pandas `DataFrame` objects with the following fields:\n",
    "- `label`: The relationship between the objects. 0: `RIDE`, 1: `CARRY`, 2: `OTHER` action predicates\n",
    "- `object_bbox`: coordinates of the bounding box for the object `[ymin, ymax, xmin, xmax]`\n",
    "- `object_category`: category of the object\n",
    "- `source_img`: filename for the corresponding image the relationship is in\n",
    "- `subject_bbox`: coordinates of the bounding box for the object `[ymin, ymax, xmin, xmax]`\n",
    "- `subject_category`: category of the subject"
   ]
  },
  {
   "cell_type": "markdown",
   "metadata": {},
   "source": [
    "If you are running this notebook for the first time, it will take ~15 mins to download all the required sample data.\n",
    "\n",
    "The sampled version of the dataset **uses the same 26 data points across the train, dev, and test sets.\n",
    "This setting is meant to demonstrate quickly how Snorkel works with this task, not to demonstrate performance.**"
   ]
  },
  {
   "cell_type": "code",
   "execution_count": null,
   "metadata": {},
   "outputs": [],
   "source": [
    "from utils import load_vrd_data\n",
    "# changed IMAGES_URL in download_full_data.sh to \"http://imagenet.stanford.edu/internal/jcjohns/scene_graphs/sg_dataset.zip\"\n",
    "# setting sample=False will take ~3 hours to run (downloads full VRD dataset)\n",
    "sample = False\n",
    "is_test = os.environ.get(\"TRAVIS\") == \"true\" or os.environ.get(\"IS_TEST\") == \"true\"\n",
    "df_train, df_valid, df_test = load_vrd_data(sample, is_test)\n",
    "\n",
    "print(\"Train Relationships: \", len(df_train))\n",
    "print(\"Dev Relationships: \", len(df_valid))\n",
    "print(\"Test Relationships: \", len(df_test))\n",
    "\n",
    "df_train.head()"
   ]
  },
  {
   "cell_type": "markdown",
   "metadata": {},
   "source": [
    "Note that the training `DataFrame` will have a labels field with all -1s. This denotes the lack of labels for that particular dataset. In this tutorial, we will assign probabilistic labels to the training set by writing labeling functions over attributes of the subject and objects!"
   ]
  },
  {
   "cell_type": "markdown",
   "metadata": {},
   "source": [
    "## 2. Writing Labeling Functions\n",
    "We now write labeling functions to detect what relationship exists between pairs of bounding boxes. To do so, we can encode various intuitions into the labeling functions:\n",
    "* _Categorical_ intution: knowledge about the categories of subjects and objects usually involved in these relationships (e.g., `person` is usually the subject for predicates like `ride` and `carry`)\n",
    "* _Spatial_ intuition: knowledge about the relative positions of the subject and objects (e.g., subject is usually higher than the object for the predicate `ride`)"
   ]
  },
  {
   "cell_type": "code",
   "execution_count": null,
   "metadata": {},
   "outputs": [],
   "source": [
    "RIDE = 0\n",
    "CARRY = 1\n",
    "OTHER = 2\n",
    "ABSTAIN = -1"
   ]
  },
  {
   "cell_type": "markdown",
   "metadata": {},
   "source": [
    "We begin with labeling functions that encode categorical intuition: we use knowledge about common subject-object category pairs that are common for `RIDE` and `CARRY` and also knowledge about what subjects or objects are unlikely to be involved in the two relationships."
   ]
  },
  {
   "cell_type": "code",
   "execution_count": null,
   "metadata": {},
   "outputs": [],
   "source": [
    "from snorkel.labeling import labeling_function\n",
    "\n",
    "# Category-based LFs\n",
    "@labeling_function()\n",
    "def lf_ride_object(x):\n",
    "    if x.subject_category == \"person\":\n",
    "        if x.object_category in [\n",
    "            \"bike\",\n",
    "            \"snowboard\",\n",
    "            \"motorcycle\",\n",
    "            \"horse\",\n",
    "            \"bus\",\n",
    "            \"truck\",\n",
    "            \"elephant\",\n",
    "        ]:\n",
    "            return RIDE\n",
    "    return ABSTAIN\n",
    "\n",
    "\n",
    "@labeling_function()\n",
    "def lf_carry_object(x):\n",
    "    if x.subject_category == \"person\":\n",
    "        if x.object_category in [\"bag\", \"surfboard\", \"skis\"]:\n",
    "            return CARRY\n",
    "    return ABSTAIN\n",
    "\n",
    "\n",
    "@labeling_function()\n",
    "def lf_carry_subject(x):\n",
    "    if x.object_category == \"person\":\n",
    "        if x.subject_category in [\"chair\", \"bike\", \"snowboard\", \"motorcycle\", \"horse\"]:\n",
    "            return CARRY\n",
    "    return ABSTAIN\n",
    "\n",
    "\n",
    "@labeling_function()\n",
    "def lf_not_person(x):\n",
    "    if x.subject_category != \"person\":\n",
    "        return OTHER\n",
    "    return ABSTAIN"
   ]
  },
  {
   "cell_type": "markdown",
   "metadata": {},
   "source": [
    "We now encode our spatial intuition, which includes measuring the distance between the bounding boxes and comparing their relative areas."
   ]
  },
  {
   "cell_type": "code",
   "execution_count": null,
   "metadata": {},
   "outputs": [],
   "source": [
    "YMIN = 0\n",
    "YMAX = 1\n",
    "XMIN = 2\n",
    "XMAX = 3"
   ]
  },
  {
   "cell_type": "code",
   "execution_count": null,
   "metadata": {},
   "outputs": [],
   "source": [
    "import numpy as np\n",
    "\n",
    "# Distance-based LFs\n",
    "@labeling_function()\n",
    "def lf_ydist(x):\n",
    "    if x.subject_bbox[XMAX] < x.object_bbox[XMAX]:\n",
    "        return OTHER\n",
    "    return ABSTAIN\n",
    "\n",
    "\n",
    "@labeling_function()\n",
    "def lf_dist(x):\n",
    "    if np.linalg.norm(np.array(x.subject_bbox) - np.array(x.object_bbox)) <= 1000:\n",
    "        return OTHER\n",
    "    return ABSTAIN\n",
    "\n",
    "\n",
    "def area(bbox):\n",
    "    return (bbox[YMAX] - bbox[YMIN]) * (bbox[XMAX] - bbox[XMIN])\n",
    "\n",
    "\n",
    "# Size-based LF\n",
    "@labeling_function()\n",
    "def lf_area(x):\n",
    "    if area(x.subject_bbox) / area(x.object_bbox) <= 0.5:\n",
    "        return OTHER\n",
    "    return ABSTAIN"
   ]
  },
  {
   "cell_type": "markdown",
   "metadata": {},
   "source": [
    "Note that the labeling functions have varying empirical accuracies and coverages. Due to class imbalance in our chosen relationships, labeling functions that label the `OTHER` class have higher coverage than labeling functions for `RIDE` or `CARRY`. This reflects the distribution of classes in the dataset as well."
   ]
  },
  {
   "cell_type": "code",
   "execution_count": null,
   "metadata": {
    "tags": [
     "md-exclude-output"
    ]
   },
   "outputs": [],
   "source": [
    "from snorkel.labeling import PandasLFApplier\n",
    "\n",
    "lfs = [\n",
    "    lf_ride_object,\n",
    "    lf_carry_object,\n",
    "    lf_carry_subject,\n",
    "    lf_not_person,\n",
    "    lf_ydist,\n",
    "    lf_dist,\n",
    "    lf_area,\n",
    "]\n",
    "\n",
    "applier = PandasLFApplier(lfs)\n",
    "L_train = applier.apply(df_train)\n",
    "L_valid = applier.apply(df_valid)"
   ]
  },
  {
   "cell_type": "code",
   "execution_count": null,
   "metadata": {},
   "outputs": [],
   "source": [
    "from snorkel.labeling import LFAnalysis\n",
    "\n",
    "Y_valid = df_valid.label.values\n",
    "LFAnalysis(L_valid, lfs).lf_summary(Y_valid)"
   ]
  },
  {
   "cell_type": "markdown",
   "metadata": {},
   "source": [
    "## 2b. Import dependencies and informed label_model"
   ]
  },
  {
   "cell_type": "code",
   "execution_count": null,
   "metadata": {},
   "outputs": [],
   "source": [
    "%load_ext autoreload\n",
    "%autoreload 2\n",
    "import sys\n",
    "sys.path.append('../')\n",
    "from Our_Monitors.CD_Monitor import CDM, Informed_LabelModel\n",
    "from Our_Monitors.CDGA_Monitor import CDGAM\n",
    "from Our_Monitors.New_Monitor import NM\n",
    "from Our_Monitors.utils import ModVarma_InCov\n",
    "\n",
    "L_dev = L_valid;# print(L_dev)\n",
    "Y_dev = Y_valid\n",
    "\n",
    "from dependency_model.varma_deps_functions import get_varma_edges, get_varma_with_gold_edges"
   ]
  },
  {
   "cell_type": "markdown",
   "metadata": {},
   "source": [
    "#### Toggle all warnings js code"
   ]
  },
  {
   "cell_type": "code",
   "execution_count": null,
   "metadata": {},
   "outputs": [],
   "source": [
    "%%javascript\n",
    "(function(on) {\n",
    "const e=$( \"<a>Setup failed</a>\" );\n",
    "const ns=\"js_jupyter_suppress_warnings\";\n",
    "var cssrules=$(\"#\"+ns);\n",
    "if(!cssrules.length) cssrules = $(\"<style id='\"+ns+\"' type='text/css'>div.output_stderr { } </style>\").appendTo(\"head\");\n",
    "e.click(function() {\n",
    "    var s='Showing';  \n",
    "    cssrules.empty()\n",
    "    if(on) {\n",
    "        s='Hiding';\n",
    "        cssrules.append(\"div.output_stderr, div[data-mime-type*='.stderr'] { display:none; }\");\n",
    "    }\n",
    "    e.text(s+' warnings (click to toggle)');\n",
    "    on=!on;\n",
    "}).click();\n",
    "$(element).append(e);\n",
    "})(true);"
   ]
  },
  {
   "cell_type": "markdown",
   "metadata": {},
   "source": [
    "### Validation analysis of lable_model for different dependenices and epochs"
   ]
  },
  {
   "cell_type": "code",
   "execution_count": null,
   "metadata": {},
   "outputs": [],
   "source": [
    "L_test = applier.apply(df_test)\n",
    "Y_test = df_test.label.values"
   ]
  },
  {
   "cell_type": "code",
   "execution_count": null,
   "metadata": {},
   "outputs": [],
   "source": [
    "%%time\n",
    "from snorkel.analysis import metric_score\n",
    "from snorkel.utils import probs_to_preds\n",
    "\n",
    "#epochs_list = [50, 100, 500, 1000, 5000, 6000][::-1]\n",
    "#sig_list = [0.01, 0.05, 0.1, 0.5, 0.6, 0.75, 0.9]\n",
    "#sig_crazy_list = [0.75, 0.9]\n",
    "#thresh_list = [0.1, 0.25, 0.5, 1, 1.5, 2]\n",
    "#lr_list = [0.01, 0.02, 0.05, 0.07, 0.1, 0.2]\n",
    "\n",
    "epochs_list = [50, 100, 500, 1000, 5000][::-1]\n",
    "sig_list = [0.01, 0.05, 0.1, 0.5, 0.75, 0.9]\n",
    "sig_crazy_list = [0.75, 0.9]\n",
    "thresh_list = [0.1, 0.5, 1, 1.5]\n",
    "lr_list = [0.01, 0.025, 0.05, 0.1]\n",
    "\n",
    "deps_names = ['NM_NP', 'CDGAM', 'Varma_Gold', 'Varma', 'Empty'] # !!!!!!!!!! modify this !!!!!!!!!!!\n",
    "\n",
    "info = { 'CDM': {'deps_params': sig_list, 'snorkel_eps': epochs_list, 'snorkel_lr':lr_list}, \n",
    "            'NM': {'deps_params': sig_list, 'snorkel_eps': epochs_list, 'snorkel_lr':lr_list}, \n",
    "            'NM_NP': {'deps_params': sig_list, 'snorkel_eps': epochs_list, 'snorkel_lr':lr_list}, \n",
    "            'CDGAM': {'deps_params': sig_list, 'snorkel_eps': epochs_list, 'snorkel_lr':lr_list}, \n",
    "            'Mod_Varma': {'deps_params': thresh_list, 'snorkel_eps': epochs_list, 'snorkel_lr':lr_list}, \n",
    "            'Varma': {'deps_params': thresh_list, 'snorkel_eps': epochs_list, 'snorkel_lr':lr_list}, \n",
    "            'Varma_Gold': {'deps_params': thresh_list, 'snorkel_eps': epochs_list, 'snorkel_lr':lr_list},\n",
    "            'Empty': {'deps_params': [-1], 'snorkel_eps': epochs_list, 'snorkel_lr':lr_list}}\n",
    "\n",
    "f1_based_store = {key: {'param': -1, 'n_eps': -1, 'lr': -1, 'f1': -1} for key in deps_names}\n",
    "\n",
    "def overall_deps_fn(deps_name, param):\n",
    "    if deps_name == 'CDM':\n",
    "        deps = CDM(L_dev, Y_dev, k=3, sig=param, policy = 'new', verbose=False, return_more_info = False)\n",
    "    elif deps_name == 'CDGAM':\n",
    "        deps = CDGAM(L_dev, k=3, sig=param, policy = 'new', verbose = False, return_more_info = False)\n",
    "    elif deps_name == 'NM':\n",
    "        deps = NM(L_dev, Y_dev, k=3, sig=param, policy = 'old', verbose=False, return_more_info = False)\n",
    "    elif deps_name == 'NM_NP':\n",
    "        deps = NM(L_dev, Y_dev, k=3, sig=param, policy = 'new', verbose=False, return_more_info = False)\n",
    "    elif deps_name == 'Mod_Varma':\n",
    "        deps = ModVarma_InCov(L_dev, Y_dev, thresh=param)\n",
    "    elif deps_name == 'Varma':\n",
    "        deps = get_varma_edges(L_dev, thresh=param)\n",
    "    elif deps_name == 'Varma_Gold':\n",
    "        deps = get_varma_with_gold_edges(L_dev, Y_dev, thresh=param)\n",
    "    elif deps_name == 'Empty':\n",
    "        deps = []\n",
    "    return deps\n",
    "\n",
    "ct=0\n",
    "total = sum([len(info[deps_name]['deps_params']) for deps_name in deps_names]) * len(epochs_list) * len(lr_list)\n",
    "for deps_name in deps_names:\n",
    "    for param in info[deps_name]['deps_params']:\n",
    "        \n",
    "        deps = overall_deps_fn(deps_name, param)\n",
    "        \n",
    "        for n_eps in info[deps_name]['snorkel_eps']:\n",
    "            for lr in info[deps_name]['snorkel_lr']:\n",
    "                \n",
    "                label_model = Informed_LabelModel(edges = deps, cardinality=3, verbose=True)\n",
    "                label_model.fit(L_train, seed=12345, lr=lr, log_freq=n_eps/10, n_epochs=n_eps)\n",
    "                \n",
    "                probs_dev = label_model.predict_proba(L_dev)\n",
    "                preds_dev = probs_to_preds(probs_dev)\n",
    "                f1 = label_model.score(L_dev, Y_dev)['accuracy']\n",
    "                \n",
    "                if f1>f1_based_store[deps_name]['f1']:\n",
    "                    print(deps_name, param, deps, n_eps, lr, \" | f1: \", f1)\n",
    "                    f1_based_store[deps_name] = {'param': param, 'n_eps': n_eps, 'lr': lr, 'f1': f1}\n",
    "                \n",
    "                ct +=1\n",
    "                print(ct, \" / \", total)\n"
   ]
  },
  {
   "cell_type": "code",
   "execution_count": null,
   "metadata": {},
   "outputs": [],
   "source": [
    "%%time\n",
    "# test using params from validation\n",
    "f1_based_test_store = {key: {'f1': -1} for key in deps_names}\n",
    "\n",
    "for deps_name in deps_names:\n",
    "    param = f1_based_store[deps_name]['param']\n",
    "    n_eps = f1_based_store[deps_name]['n_eps']\n",
    "    lr = f1_based_store[deps_name]['lr']\n",
    "    \n",
    "    deps = overall_deps_fn(deps_name, param)\n",
    "    \n",
    "    label_model = Informed_LabelModel(edges = deps, cardinality=3, verbose=True)\n",
    "    label_model.fit(L_train, seed=12345, lr=lr, log_freq=n_eps/10, n_epochs=n_eps)\n",
    "    \n",
    "    probs_test = label_model.predict_proba(L_test)\n",
    "    preds_test = probs_to_preds(probs_test)\n",
    "    f1_test = label_model.score(L_test, Y_test)['accuracy']\n",
    "\n",
    "    f1_based_test_store[deps_name] = {'f1': f1_test}"
   ]
  },
  {
   "cell_type": "code",
   "execution_count": null,
   "metadata": {},
   "outputs": [],
   "source": [
    "print(pd.DataFrame(f1_based_store))\n",
    "print(pd.DataFrame(f1_based_test_store))"
   ]
  },
  {
   "cell_type": "code",
   "execution_count": null,
   "metadata": {},
   "outputs": [],
   "source": []
  }
 ],
 "metadata": {
  "jupytext": {
   "cell_metadata_filter": "tags,-all"
  },
  "kernelspec": {
   "display_name": "Python 3",
   "language": "python",
   "name": "python3"
  },
  "language_info": {
   "codemirror_mode": {
    "name": "ipython",
    "version": 3
   },
   "file_extension": ".py",
   "mimetype": "text/x-python",
   "name": "python",
   "nbconvert_exporter": "python",
   "pygments_lexer": "ipython3",
   "version": "3.6.10"
  }
 },
 "nbformat": 4,
 "nbformat_minor": 4
}
