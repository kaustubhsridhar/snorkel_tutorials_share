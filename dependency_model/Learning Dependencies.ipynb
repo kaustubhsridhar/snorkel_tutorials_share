{
 "cells": [
  {
   "cell_type": "code",
   "execution_count": 1,
   "metadata": {},
   "outputs": [],
   "source": [
    "%matplotlib inline\n",
    "%load_ext autoreload\n",
    "%autoreload 2\n",
    "\n",
    "import numpy as np"
   ]
  },
  {
   "cell_type": "markdown",
   "metadata": {},
   "source": [
    "### Generate Synthetic Data"
   ]
  },
  {
   "cell_type": "code",
   "execution_count": 3,
   "metadata": {},
   "outputs": [
    {
     "name": "stdout",
     "output_type": "stream",
     "text": [
      "[[-1 -1  1 ... -1  1  1]\n",
      " [-1 -1  0 ... -1 -1  0]\n",
      " [-1 -1  0 ... -1 -1 -1]\n",
      " ...\n",
      " [-1 -1 -1 ... -1 -1  0]\n",
      " [-1 -1 -1 ... -1 -1 -1]\n",
      " [-1 -1  1 ... -1  0  1]]\n"
     ]
    }
   ],
   "source": [
    "from utils import generate_synthetic_data\n",
    "\n",
    "N = 10000\n",
    "corr_strength = 0.8\n",
    "class_balance = [0.5, 0.5]\n",
    "cond_probs = np.array([[0.5, 0.4, 0.1], [0.5, 0.1, 0.4]])\n",
    "corr_graph = [{0, 1, 4}, {2}, {3}, {5}, {6}]\n",
    "\n",
    "y_true, L = generate_synthetic_data(N, corr_strength, class_balance, cond_probs, corr_graph)\n",
    "print(L)"
   ]
  },
  {
   "cell_type": "markdown",
   "metadata": {},
   "source": [
    "### Learn Dependencies between Labeling Functions"
   ]
  },
  {
   "cell_type": "code",
   "execution_count": 6,
   "metadata": {},
   "outputs": [
    {
     "name": "stdout",
     "output_type": "stream",
     "text": [
      "Variable var344: value [[ 5.12403281e+00 -2.19461446e+00 -2.85294490e-02 -1.09085369e-02\n",
      "  -2.34785244e+00 -3.23359906e-02 -2.06795853e-02]\n",
      " [-2.19461446e+00  5.20306635e+00 -5.83568520e-03 -1.56106507e-02\n",
      "  -2.45538304e+00 -5.29613392e-02 -1.33855314e-02]\n",
      " [-2.85294490e-02 -5.83568520e-03  1.48110981e+00  8.67368303e-03\n",
      "  -1.69984893e-02 -7.32106712e-02 -5.27144421e-03]\n",
      " [-1.09085369e-02 -1.56106507e-02  8.67368303e-03  1.45742213e+00\n",
      "  -4.51783357e-02 -7.20493699e-02 -2.52434321e-02]\n",
      " [-2.34785244e+00 -2.45538304e+00 -1.69984893e-02 -4.51783357e-02\n",
      "   5.35332047e+00  3.77938357e-02 -1.87122786e-02]\n",
      " [-3.23359906e-02 -5.29613392e-02 -7.32106712e-02 -7.20493699e-02\n",
      "   3.77938357e-02  1.45902343e+00 -2.07311520e-02]\n",
      " [-2.06795853e-02 -1.33855314e-02 -5.27144421e-03 -2.52434321e-02\n",
      "  -1.87122786e-02 -2.07311520e-02  1.44853501e+00]]\n",
      "Variable var343: value [[ 5.12403243e+00 -2.19461487e+00 -2.85294128e-02 -1.09084916e-02\n",
      "  -2.34785266e+00 -3.23358089e-02 -2.06795576e-02]\n",
      " [-2.19461487e+00  5.20306581e+00 -5.83564962e-03 -1.56106170e-02\n",
      "  -2.45538317e+00 -5.29611609e-02 -1.33855050e-02]\n",
      " [-2.85294128e-02 -5.83564962e-03  1.48111004e+00  8.67374019e-03\n",
      "  -1.69984638e-02 -7.32106062e-02 -5.27142315e-03]\n",
      " [-1.09084916e-02 -1.56106170e-02  8.67374019e-03  1.45742192e+00\n",
      "  -4.51783167e-02 -7.20493097e-02 -2.52433988e-02]\n",
      " [-2.34785266e+00 -2.45538317e+00 -1.69984638e-02 -4.51783167e-02\n",
      "   5.35331967e+00  3.77939830e-02 -1.87122619e-02]\n",
      " [-3.23358089e-02 -5.29611609e-02 -7.32106062e-02 -7.20493097e-02\n",
      "   3.77939830e-02  1.45902330e+00 -2.07311047e-02]\n",
      " [-2.06795576e-02 -1.33855050e-02 -5.27142315e-03 -2.52433988e-02\n",
      "  -1.87122619e-02 -2.07311047e-02  1.44853474e+00]]\n",
      "Variable var342: value [[ 4.04855564e-08 -1.26788820e-07  1.50561554e-08  1.98279848e-08\n",
      "  -6.72715056e-08  5.79137287e-08  1.29692277e-08]\n",
      " [-1.26788820e-07  3.74508937e-09  1.50969468e-08  1.63623782e-08\n",
      "  -3.55712921e-08  5.66934819e-08  1.26832728e-08]\n",
      " [ 1.50561554e-08  1.50969468e-08  1.06314599e-07  1.84132777e-08\n",
      "   1.19290614e-08  4.08705871e-08  8.76343224e-09]\n",
      " [ 1.98279848e-08  1.63623782e-08  1.84132777e-08  1.10252679e-08\n",
      "   1.16922698e-08  3.97559391e-08  1.86721225e-08]\n",
      " [-6.72715056e-08 -3.55712921e-08  1.19290614e-08  1.16922698e-08\n",
      "  -5.57448596e-08  4.76420240e-08  9.76711478e-09]\n",
      " [ 5.79137287e-08  5.66934819e-08  4.08705871e-08  3.97559391e-08\n",
      "   4.76420240e-08  2.99252020e-08  2.17758891e-08]\n",
      " [ 1.29692277e-08  1.26832728e-08  8.76343224e-09  1.86721225e-08\n",
      "   9.76711478e-09  2.17758891e-08 -5.06925320e-09]]\n",
      "Learned dependencies:  [(0, 1), (0, 4), (1, 4)]\n"
     ]
    },
    {
     "name": "stderr",
     "output_type": "stream",
     "text": [
      "/home/kaustubh-anaconda/anaconda3/envs/snorkel_env_spouse/lib/python3.6/site-packages/cvxpy/expressions/expression.py:516: UserWarning: \n",
      "This use of ``*`` has resulted in matrix multiplication.\n",
      "Using ``*`` for matrix multiplication has been deprecated since CVXPY 1.1.\n",
      "    Use ``*`` for matrix-scalar and vector-scalar multiplication.\n",
      "    Use ``@`` for matrix-matrix and matrix-vector multiplication.\n",
      "    Use ``multiply`` for elementwise multiplication.\n",
      "\n",
      "  warnings.warn(__STAR_MATMUL_WARNING__, UserWarning)\n"
     ]
    }
   ],
   "source": [
    "from learn_deps import learn_structure, get_deps_from_inverse_sig\n",
    "\n",
    "J_hat = learn_structure(L)\n",
    "deps_hat = get_deps_from_inverse_sig(J_hat, thresh=1.5)\n",
    "\n",
    "#remove repeated edges\n",
    "deps = []\n",
    "for i,j in deps_hat:\n",
    "    if i < j:\n",
    "        deps.append((i,j))\n",
    "\n",
    "print(\"Learned dependencies: \", deps) #should be [(0,1), (0,4), (1,4)]"
   ]
  },
  {
   "cell_type": "code",
   "execution_count": null,
   "metadata": {},
   "outputs": [],
   "source": []
  }
 ],
 "metadata": {
  "kernelspec": {
   "display_name": "Python 3",
   "language": "python",
   "name": "python3"
  },
  "language_info": {
   "codemirror_mode": {
    "name": "ipython",
    "version": 3
   },
   "file_extension": ".py",
   "mimetype": "text/x-python",
   "name": "python",
   "nbconvert_exporter": "python",
   "pygments_lexer": "ipython3",
   "version": "3.6.10"
  }
 },
 "nbformat": 4,
 "nbformat_minor": 2
}
